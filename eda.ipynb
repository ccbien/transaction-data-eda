{
 "cells": [
  {
   "cell_type": "markdown",
   "metadata": {},
   "source": [
    "# Read data & clean"
   ]
  },
  {
   "cell_type": "code",
   "execution_count": 17,
   "metadata": {},
   "outputs": [],
   "source": [
    "from datetime import datetime\n",
    "\n",
    "import pandas as pd\n",
    "import numpy as np\n",
    "import matplotlib.pyplot as plt\n",
    "from scipy import stats"
   ]
  },
  {
   "cell_type": "markdown",
   "metadata": {},
   "source": [
    "Read data and remove duplicate rows"
   ]
  },
  {
   "cell_type": "code",
   "execution_count": 18,
   "metadata": {},
   "outputs": [
    {
     "data": {
      "text/html": [
       "<div>\n",
       "<style scoped>\n",
       "    .dataframe tbody tr th:only-of-type {\n",
       "        vertical-align: middle;\n",
       "    }\n",
       "\n",
       "    .dataframe tbody tr th {\n",
       "        vertical-align: top;\n",
       "    }\n",
       "\n",
       "    .dataframe thead th {\n",
       "        text-align: right;\n",
       "    }\n",
       "</style>\n",
       "<table border=\"1\" class=\"dataframe\">\n",
       "  <thead>\n",
       "    <tr style=\"text-align: right;\">\n",
       "      <th></th>\n",
       "      <th>UserId</th>\n",
       "      <th>TransactionId</th>\n",
       "      <th>TransactionTime</th>\n",
       "      <th>ItemCode</th>\n",
       "      <th>ItemDescription</th>\n",
       "      <th>NumberOfItemsPurchased</th>\n",
       "      <th>CostPerItem</th>\n",
       "      <th>Country</th>\n",
       "    </tr>\n",
       "  </thead>\n",
       "  <tbody>\n",
       "    <tr>\n",
       "      <th>0</th>\n",
       "      <td>278166</td>\n",
       "      <td>6355745</td>\n",
       "      <td>Sat Feb 02 12:50:00 IST 2019</td>\n",
       "      <td>465549</td>\n",
       "      <td>FAMILY ALBUM WHITE PICTURE FRAME</td>\n",
       "      <td>6</td>\n",
       "      <td>11.73</td>\n",
       "      <td>United Kingdom</td>\n",
       "    </tr>\n",
       "    <tr>\n",
       "      <th>1</th>\n",
       "      <td>337701</td>\n",
       "      <td>6283376</td>\n",
       "      <td>Wed Dec 26 09:06:00 IST 2018</td>\n",
       "      <td>482370</td>\n",
       "      <td>LONDON BUS COFFEE MUG</td>\n",
       "      <td>3</td>\n",
       "      <td>3.52</td>\n",
       "      <td>United Kingdom</td>\n",
       "    </tr>\n",
       "    <tr>\n",
       "      <th>2</th>\n",
       "      <td>267099</td>\n",
       "      <td>6385599</td>\n",
       "      <td>Fri Feb 15 09:45:00 IST 2019</td>\n",
       "      <td>490728</td>\n",
       "      <td>SET 12 COLOUR PENCILS DOLLY GIRL</td>\n",
       "      <td>72</td>\n",
       "      <td>0.90</td>\n",
       "      <td>France</td>\n",
       "    </tr>\n",
       "    <tr>\n",
       "      <th>3</th>\n",
       "      <td>380478</td>\n",
       "      <td>6044973</td>\n",
       "      <td>Fri Jun 22 07:14:00 IST 2018</td>\n",
       "      <td>459186</td>\n",
       "      <td>UNION JACK FLAG LUGGAGE TAG</td>\n",
       "      <td>3</td>\n",
       "      <td>1.73</td>\n",
       "      <td>United Kingdom</td>\n",
       "    </tr>\n",
       "    <tr>\n",
       "      <th>4</th>\n",
       "      <td>-1</td>\n",
       "      <td>6143225</td>\n",
       "      <td>Mon Sep 10 11:58:00 IST 2018</td>\n",
       "      <td>1733592</td>\n",
       "      <td>WASHROOM METAL SIGN</td>\n",
       "      <td>3</td>\n",
       "      <td>3.40</td>\n",
       "      <td>United Kingdom</td>\n",
       "    </tr>\n",
       "  </tbody>\n",
       "</table>\n",
       "</div>"
      ],
      "text/plain": [
       "   UserId  TransactionId               TransactionTime  ItemCode   \n",
       "0  278166        6355745  Sat Feb 02 12:50:00 IST 2019    465549  \\\n",
       "1  337701        6283376  Wed Dec 26 09:06:00 IST 2018    482370   \n",
       "2  267099        6385599  Fri Feb 15 09:45:00 IST 2019    490728   \n",
       "3  380478        6044973  Fri Jun 22 07:14:00 IST 2018    459186   \n",
       "4      -1        6143225  Mon Sep 10 11:58:00 IST 2018   1733592   \n",
       "\n",
       "                     ItemDescription  NumberOfItemsPurchased  CostPerItem   \n",
       "0   FAMILY ALBUM WHITE PICTURE FRAME                       6        11.73  \\\n",
       "1              LONDON BUS COFFEE MUG                       3         3.52   \n",
       "2  SET 12 COLOUR PENCILS DOLLY GIRL                       72         0.90   \n",
       "3        UNION JACK FLAG LUGGAGE TAG                       3         1.73   \n",
       "4                WASHROOM METAL SIGN                       3         3.40   \n",
       "\n",
       "          Country  \n",
       "0  United Kingdom  \n",
       "1  United Kingdom  \n",
       "2          France  \n",
       "3  United Kingdom  \n",
       "4  United Kingdom  "
      ]
     },
     "execution_count": 18,
     "metadata": {},
     "output_type": "execute_result"
    }
   ],
   "source": [
    "df = pd.read_csv(\"data/raw/transaction_data.csv\")\n",
    "df = df.drop_duplicates()\n",
    "df.head()"
   ]
  },
  {
   "cell_type": "code",
   "execution_count": 19,
   "metadata": {},
   "outputs": [
    {
     "name": "stdout",
     "output_type": "stream",
     "text": [
      "<class 'pandas.core.frame.DataFrame'>\n",
      "Index: 536572 entries, 0 to 1081501\n",
      "Data columns (total 8 columns):\n",
      " #   Column                  Non-Null Count   Dtype  \n",
      "---  ------                  --------------   -----  \n",
      " 0   UserId                  536572 non-null  int64  \n",
      " 1   TransactionId           536572 non-null  int64  \n",
      " 2   TransactionTime         536572 non-null  object \n",
      " 3   ItemCode                536572 non-null  int64  \n",
      " 4   ItemDescription         535118 non-null  object \n",
      " 5   NumberOfItemsPurchased  536572 non-null  int64  \n",
      " 6   CostPerItem             536572 non-null  float64\n",
      " 7   Country                 536572 non-null  object \n",
      "dtypes: float64(1), int64(4), object(3)\n",
      "memory usage: 36.8+ MB\n"
     ]
    }
   ],
   "source": [
    "df.info()"
   ]
  },
  {
   "cell_type": "markdown",
   "metadata": {},
   "source": [
    "`ItemDescription` is the only column that contains null values, replace them with empty strings"
   ]
  },
  {
   "cell_type": "code",
   "execution_count": 20,
   "metadata": {},
   "outputs": [],
   "source": [
    "df[\"ItemDescription\"] = df[\"ItemDescription\"].fillna(\"\")"
   ]
  },
  {
   "cell_type": "markdown",
   "metadata": {},
   "source": [
    "Convert `TransactionTime` column to datetime objects\n",
    "\n",
    "Remove the rows that have invalid `TransactionTime` (times that exceed the current time)"
   ]
  },
  {
   "cell_type": "code",
   "execution_count": 21,
   "metadata": {},
   "outputs": [],
   "source": [
    "df[\"TransactionTime\"] = pd.to_datetime(df[\"TransactionTime\"], format=\"%a %b %d %H:%M:%S IST %Y\")\n",
    "df = df[df[\"TransactionTime\"] < datetime.now()]"
   ]
  },
  {
   "cell_type": "markdown",
   "metadata": {},
   "source": [
    "Remove the rows that have non-positive `NumberOfItemsPurchased` or non-positive `CostPerItem`"
   ]
  },
  {
   "cell_type": "code",
   "execution_count": 22,
   "metadata": {},
   "outputs": [],
   "source": [
    "df = df[df[\"NumberOfItemsPurchased\"] > 0]\n",
    "df = df[df[\"CostPerItem\"] > 0]"
   ]
  },
  {
   "cell_type": "markdown",
   "metadata": {},
   "source": [
    "# Filter outliers"
   ]
  },
  {
   "cell_type": "markdown",
   "metadata": {},
   "source": [
    "Consider a set of rows that have the same `itemCode`, a row is considered an outlier if:\n",
    "* `NumberOfItemsPurchased` is anomaly OR\n",
    "* `CostPerItem` is anomaly\n",
    "\n",
    "For these two columns, I compute the z-score for each sample in each column sequentially.\n",
    "\n",
    "A sample is an outlier if either of the two z-scores exceeds the threshold of 3."
   ]
  },
  {
   "cell_type": "code",
   "execution_count": 23,
   "metadata": {},
   "outputs": [
    {
     "data": {
      "application/vnd.jupyter.widget-view+json": {
       "model_id": "1b34e87cb738466596be03a24a538ac6",
       "version_major": 2,
       "version_minor": 0
      },
      "text/plain": [
       "  0%|          | 0/3291 [00:00<?, ?it/s]"
      ]
     },
     "metadata": {},
     "output_type": "display_data"
    }
   ],
   "source": [
    "from tqdm.notebook import tqdm\n",
    "\n",
    "\n",
    "def detect_outliers(group, col, threshold):\n",
    "    \"\"\"\n",
    "    Compute z-score of the `col`\n",
    "    Return a list of index having z-score > threshold\n",
    "    \"\"\"\n",
    "    z_scores = np.abs(stats.zscore(group[col]))\n",
    "    outliers = group[(z_scores > threshold)]\n",
    "    return list(outliers.index)\n",
    "\n",
    "\n",
    "outlier_index = []  \n",
    "# Group by `ItemCode` --> detect anomaly within each unique item\n",
    "for item_code, group in tqdm(df.groupby(\"ItemCode\")):\n",
    "    outlier_index += detect_outliers(group, \"NumberOfItemsPurchased\", threshold=3)\n",
    "    outlier_index += detect_outliers(group, \"CostPerItem\", threshold=3)"
   ]
  },
  {
   "cell_type": "markdown",
   "metadata": {},
   "source": [
    "Remove the outliers from dataset"
   ]
  },
  {
   "cell_type": "code",
   "execution_count": 24,
   "metadata": {},
   "outputs": [
    {
     "name": "stdout",
     "output_type": "stream",
     "text": [
      "Number of outliers: 15359\n"
     ]
    }
   ],
   "source": [
    "outlier_index = list(set(outlier_index))\n",
    "print(\"Number of outliers:\", len(outlier_index))\n",
    "\n",
    "df_outlier = df[df.index.isin(outlier_index)]\n",
    "df = df[~df.index.isin(outlier_index)]"
   ]
  },
  {
   "cell_type": "markdown",
   "metadata": {},
   "source": [
    "# Statistics"
   ]
  },
  {
   "cell_type": "markdown",
   "metadata": {},
   "source": [
    "Calculate the number of Items purchased and prices in each month"
   ]
  },
  {
   "cell_type": "code",
   "execution_count": 25,
   "metadata": {},
   "outputs": [
    {
     "data": {
      "text/html": [
       "<div>\n",
       "<style scoped>\n",
       "    .dataframe tbody tr th:only-of-type {\n",
       "        vertical-align: middle;\n",
       "    }\n",
       "\n",
       "    .dataframe tbody tr th {\n",
       "        vertical-align: top;\n",
       "    }\n",
       "\n",
       "    .dataframe thead th {\n",
       "        text-align: right;\n",
       "    }\n",
       "</style>\n",
       "<table border=\"1\" class=\"dataframe\">\n",
       "  <thead>\n",
       "    <tr style=\"text-align: right;\">\n",
       "      <th></th>\n",
       "      <th>NumberOfItemsPurchased</th>\n",
       "      <th>CostPerItem</th>\n",
       "    </tr>\n",
       "    <tr>\n",
       "      <th>MonthYear</th>\n",
       "      <th></th>\n",
       "      <th></th>\n",
       "    </tr>\n",
       "  </thead>\n",
       "  <tbody>\n",
       "    <tr>\n",
       "      <th>2018-10</th>\n",
       "      <td>954111</td>\n",
       "      <td>157763.50</td>\n",
       "    </tr>\n",
       "    <tr>\n",
       "      <th>2018-11</th>\n",
       "      <td>947163</td>\n",
       "      <td>179260.37</td>\n",
       "    </tr>\n",
       "    <tr>\n",
       "      <th>2018-12</th>\n",
       "      <td>1470798</td>\n",
       "      <td>274831.83</td>\n",
       "    </tr>\n",
       "    <tr>\n",
       "      <th>2018-2</th>\n",
       "      <td>663951</td>\n",
       "      <td>185927.34</td>\n",
       "    </tr>\n",
       "    <tr>\n",
       "      <th>2018-3</th>\n",
       "      <td>465807</td>\n",
       "      <td>127527.54</td>\n",
       "    </tr>\n",
       "    <tr>\n",
       "      <th>2018-4</th>\n",
       "      <td>634248</td>\n",
       "      <td>159069.61</td>\n",
       "    </tr>\n",
       "    <tr>\n",
       "      <th>2018-5</th>\n",
       "      <td>710157</td>\n",
       "      <td>167814.89</td>\n",
       "    </tr>\n",
       "    <tr>\n",
       "      <th>2018-6</th>\n",
       "      <td>820260</td>\n",
       "      <td>184092.25</td>\n",
       "    </tr>\n",
       "    <tr>\n",
       "      <th>2018-7</th>\n",
       "      <td>833658</td>\n",
       "      <td>176661.96</td>\n",
       "    </tr>\n",
       "    <tr>\n",
       "      <th>2018-8</th>\n",
       "      <td>798849</td>\n",
       "      <td>174302.13</td>\n",
       "    </tr>\n",
       "    <tr>\n",
       "      <th>2018-9</th>\n",
       "      <td>835725</td>\n",
       "      <td>189464.38</td>\n",
       "    </tr>\n",
       "    <tr>\n",
       "      <th>2019-1</th>\n",
       "      <td>1598805</td>\n",
       "      <td>326192.91</td>\n",
       "    </tr>\n",
       "    <tr>\n",
       "      <th>2019-2</th>\n",
       "      <td>1420923</td>\n",
       "      <td>277659.29</td>\n",
       "    </tr>\n",
       "  </tbody>\n",
       "</table>\n",
       "</div>"
      ],
      "text/plain": [
       "           NumberOfItemsPurchased  CostPerItem\n",
       "MonthYear                                     \n",
       "2018-10                    954111    157763.50\n",
       "2018-11                    947163    179260.37\n",
       "2018-12                   1470798    274831.83\n",
       "2018-2                     663951    185927.34\n",
       "2018-3                     465807    127527.54\n",
       "2018-4                     634248    159069.61\n",
       "2018-5                     710157    167814.89\n",
       "2018-6                     820260    184092.25\n",
       "2018-7                     833658    176661.96\n",
       "2018-8                     798849    174302.13\n",
       "2018-9                     835725    189464.38\n",
       "2019-1                    1598805    326192.91\n",
       "2019-2                    1420923    277659.29"
      ]
     },
     "execution_count": 25,
     "metadata": {},
     "output_type": "execute_result"
    }
   ],
   "source": [
    "df[\"MonthYear\"] = df[\"TransactionTime\"].apply(lambda dt: f\"{dt.year}-{dt.month}\")\n",
    "\n",
    "df.groupby(\"MonthYear\").agg({\n",
    "    \"NumberOfItemsPurchased\": \"sum\",\n",
    "    \"CostPerItem\": \"sum\"\n",
    "})"
   ]
  },
  {
   "cell_type": "markdown",
   "metadata": {},
   "source": [
    "Calculate the number of items purchased for each userID in 30 days for each day "
   ]
  },
  {
   "cell_type": "code",
   "execution_count": 26,
   "metadata": {},
   "outputs": [],
   "source": [
    "df.sort_values(by=\"TransactionTime\", inplace=True)"
   ]
  },
  {
   "cell_type": "code",
   "execution_count": 27,
   "metadata": {},
   "outputs": [],
   "source": [
    "df[\"NumberOfItemsPurchased_30days\"] = \\\n",
    "    df.set_index(\"TransactionTime\").groupby(\"UserId\")[\"NumberOfItemsPurchased\"]\\\n",
    "        .rolling(\"30D\").sum().reset_index().astype(int)[\"NumberOfItemsPurchased\"]"
   ]
  },
  {
   "cell_type": "code",
   "execution_count": 28,
   "metadata": {},
   "outputs": [
    {
     "data": {
      "text/html": [
       "<div>\n",
       "<style scoped>\n",
       "    .dataframe tbody tr th:only-of-type {\n",
       "        vertical-align: middle;\n",
       "    }\n",
       "\n",
       "    .dataframe tbody tr th {\n",
       "        vertical-align: top;\n",
       "    }\n",
       "\n",
       "    .dataframe thead th {\n",
       "        text-align: right;\n",
       "    }\n",
       "</style>\n",
       "<table border=\"1\" class=\"dataframe\">\n",
       "  <thead>\n",
       "    <tr style=\"text-align: right;\">\n",
       "      <th></th>\n",
       "      <th>UserId</th>\n",
       "      <th>TransactionId</th>\n",
       "      <th>TransactionTime</th>\n",
       "      <th>ItemCode</th>\n",
       "      <th>ItemDescription</th>\n",
       "      <th>NumberOfItemsPurchased</th>\n",
       "      <th>CostPerItem</th>\n",
       "      <th>Country</th>\n",
       "      <th>MonthYear</th>\n",
       "      <th>NumberOfItemsPurchased_30days</th>\n",
       "    </tr>\n",
       "  </thead>\n",
       "  <tbody>\n",
       "    <tr>\n",
       "      <th>577478</th>\n",
       "      <td>374850</td>\n",
       "      <td>5900015</td>\n",
       "      <td>2018-02-12 04:26:00</td>\n",
       "      <td>1787583</td>\n",
       "      <td>WHITE HANGING HEART T-LIGHT HOLDER</td>\n",
       "      <td>18</td>\n",
       "      <td>3.52</td>\n",
       "      <td>United Kingdom</td>\n",
       "      <td>2018-2</td>\n",
       "      <td>NaN</td>\n",
       "    </tr>\n",
       "    <tr>\n",
       "      <th>528742</th>\n",
       "      <td>374850</td>\n",
       "      <td>5900015</td>\n",
       "      <td>2018-02-12 04:26:00</td>\n",
       "      <td>1764609</td>\n",
       "      <td>KNITTED UNION FLAG HOT WATER BOTTLE</td>\n",
       "      <td>18</td>\n",
       "      <td>4.68</td>\n",
       "      <td>United Kingdom</td>\n",
       "      <td>2018-2</td>\n",
       "      <td>NaN</td>\n",
       "    </tr>\n",
       "    <tr>\n",
       "      <th>55169</th>\n",
       "      <td>374850</td>\n",
       "      <td>5900015</td>\n",
       "      <td>2018-02-12 04:26:00</td>\n",
       "      <td>477792</td>\n",
       "      <td>SET 7 BABUSHKA NESTING BOXES</td>\n",
       "      <td>6</td>\n",
       "      <td>10.56</td>\n",
       "      <td>United Kingdom</td>\n",
       "      <td>2018-2</td>\n",
       "      <td>66072.0</td>\n",
       "    </tr>\n",
       "    <tr>\n",
       "      <th>323263</th>\n",
       "      <td>374850</td>\n",
       "      <td>5900015</td>\n",
       "      <td>2018-02-12 04:26:00</td>\n",
       "      <td>1492113</td>\n",
       "      <td>WHITE METAL LANTERN</td>\n",
       "      <td>18</td>\n",
       "      <td>4.68</td>\n",
       "      <td>United Kingdom</td>\n",
       "      <td>2018-2</td>\n",
       "      <td>4839.0</td>\n",
       "    </tr>\n",
       "    <tr>\n",
       "      <th>412255</th>\n",
       "      <td>374850</td>\n",
       "      <td>5900015</td>\n",
       "      <td>2018-02-12 04:26:00</td>\n",
       "      <td>1764609</td>\n",
       "      <td>RED WOOLLY HOTTIE WHITE HEART.</td>\n",
       "      <td>18</td>\n",
       "      <td>4.68</td>\n",
       "      <td>United Kingdom</td>\n",
       "      <td>2018-2</td>\n",
       "      <td>318.0</td>\n",
       "    </tr>\n",
       "  </tbody>\n",
       "</table>\n",
       "</div>"
      ],
      "text/plain": [
       "        UserId  TransactionId     TransactionTime  ItemCode   \n",
       "577478  374850        5900015 2018-02-12 04:26:00   1787583  \\\n",
       "528742  374850        5900015 2018-02-12 04:26:00   1764609   \n",
       "55169   374850        5900015 2018-02-12 04:26:00    477792   \n",
       "323263  374850        5900015 2018-02-12 04:26:00   1492113   \n",
       "412255  374850        5900015 2018-02-12 04:26:00   1764609   \n",
       "\n",
       "                            ItemDescription  NumberOfItemsPurchased   \n",
       "577478   WHITE HANGING HEART T-LIGHT HOLDER                      18  \\\n",
       "528742  KNITTED UNION FLAG HOT WATER BOTTLE                      18   \n",
       "55169          SET 7 BABUSHKA NESTING BOXES                       6   \n",
       "323263                  WHITE METAL LANTERN                      18   \n",
       "412255       RED WOOLLY HOTTIE WHITE HEART.                      18   \n",
       "\n",
       "        CostPerItem         Country MonthYear  NumberOfItemsPurchased_30days  \n",
       "577478         3.52  United Kingdom    2018-2                            NaN  \n",
       "528742         4.68  United Kingdom    2018-2                            NaN  \n",
       "55169         10.56  United Kingdom    2018-2                        66072.0  \n",
       "323263         4.68  United Kingdom    2018-2                         4839.0  \n",
       "412255         4.68  United Kingdom    2018-2                          318.0  "
      ]
     },
     "execution_count": 28,
     "metadata": {},
     "output_type": "execute_result"
    }
   ],
   "source": [
    "df.head()"
   ]
  },
  {
   "cell_type": "code",
   "execution_count": 29,
   "metadata": {},
   "outputs": [],
   "source": [
    "df.to_csv(\"data/cleaned/transaction_data.csv\", index=False)"
   ]
  }
 ],
 "metadata": {
  "kernelspec": {
   "display_name": "torch",
   "language": "python",
   "name": "python3"
  },
  "language_info": {
   "codemirror_mode": {
    "name": "ipython",
    "version": 3
   },
   "file_extension": ".py",
   "mimetype": "text/x-python",
   "name": "python",
   "nbconvert_exporter": "python",
   "pygments_lexer": "ipython3",
   "version": "3.9.16"
  },
  "orig_nbformat": 4
 },
 "nbformat": 4,
 "nbformat_minor": 2
}
